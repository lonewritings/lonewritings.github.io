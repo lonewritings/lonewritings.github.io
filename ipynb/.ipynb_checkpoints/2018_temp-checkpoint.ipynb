{
 "cells": [
  {
   "cell_type": "markdown",
   "metadata": {},
   "source": [
    "I often work with time-series data obtained from multiple sensors with irregular data acquisition rates. One of the most common problems is how to appropriately time-align the data, as any multivariate analytical method will typically require that the signals be mapped to the same time scale. The issue is made even more difficult due to a quirk of a third-party data historian I sometimes work with, which compresses data by removing repeated data points in the time-domain.\n",
    "\n",
    "This blog series is intended to demonstrate the preprocessing algorithm developed to deal with data stored under these circumstances. In **Part 1**, I’ll establish motivation and explain the data compression algorithm itself. In **Part 2**, I'll run a Markov state model simulation meant to illustrate the consequences of using improperly prepared data. In **Part 3**, I’ll summarize the correct preprocessing algorithm and how it is easily implemented using the Python library **pandas**.\n",
    "\n",
    "The data compression algorithm used in the historian is as follows, per variable, per time step:\n",
    "* Is the value at the current time the same as the last value written to the database?\n",
    "   - If true, store nothing in the database.\n",
    "   - If false, store the last written value in the previous time step, and the current value in the current time step.\n",
    "\n",
    "Data is pulled from the historian \"*raw*\", which means that it is already compressed and must be expanded to its original form before analysis. This requirement is not clearly stated in the data historian documentation, and initial models produced inaccurate results because the data was not properly expanded before model construction.\n",
    "\n",
    "In theory, the *compressed* data from the algorithm above can be fully restored by forward-filling all missing data points. In practice, sensor communication drops caused data gaps which looked exactly the same as *compressed* data. Detecting these communication drops involved a more extensive solution which may be described in a subsequent post.\n",
    "\n",
    "The following Python code and figure demonstrates how the compression algorithm works in practice, assuming a signal resolution of 1.0 units."
   ]
  },
  {
   "cell_type": "code",
   "execution_count": 1,
   "metadata": {},
   "outputs": [
    {
     "data": {
      "text/plain": [
       "<matplotlib.figure.Figure at 0x1b05f4cf400>"
      ]
     },
     "metadata": {},
     "output_type": "display_data"
    },
    {
     "data": {
      "image/png": "[encoded data removed]",
      "text/plain": [
       "<matplotlib.figure.Figure at 0x1b0608e0390>"
      ]
     },
     "metadata": {},
     "output_type": "display_data"
    }
   ],
   "source": [
    "import pandas as pd\n",
    "import matplotlib.pyplot as plt\n",
    "%matplotlib inline\n",
    "plt.style.use('ggplot')\n",
    "#'s' represents stored data, 'h' represents hidden data\n",
    "sig = pd.DataFrame(data={'Time':range(17),\n",
    "                         'Value':[1,1,1,1,1,2,2,2,3,2,3,3,2,2,2,2,2],\n",
    "                         'Flag':['s','h','h','h','s','s','h','s','s',\n",
    "                                 's','s','s','s','h','h','h','s']})\n",
    "plt.figure(0)\n",
    "#Plot the stored data as blue dots\n",
    "ax = sig[sig['Flag'] == 's'].plot(x='Time',y='Value',c='b',\n",
    "                                  kind='scatter',label='Stored')\n",
    "#Plot the hidden data as red Xs\n",
    "sig[sig['Flag'] == 'h'].plot(x='Time',y='Value',c='r',marker='x',\n",
    "                             kind='scatter',label='Hidden',ax=ax)\n",
    "#Adjust the axis and legend\n",
    "ax.legend(loc='upper left')\n",
    "plt.axis([-1,18,0.5,3.5]);"
   ]
  },
  {
   "cell_type": "markdown",
   "metadata": {},
   "source": [
    "Note that time periods which are relatively stationary (e.g. times 0-4 in the above figure) will be compressed more heavily than time periods where the value changes often (e.g. times 7-12 in the above figure). Furthermore, sensor output resolution affects the compression rate. Imagine if the step size was 0.5 units in the above figure rather than 1.0 units- some of the \"hidden\" values might be shifted by 0.5 units, which means they might be stored more often.\n",
    "\n",
    "Before I began working at the company, some analysts believed that the missing data was due to the sensor acquisition rate itself. To preprocess their data, they would attempt to time-align data only when sensor timestamps matched exactly. The following figure demonstrates why this is a poor practice, using a plot of *raw* data from two sensors."
   ]
  },
  {
   "cell_type": "code",
   "execution_count": 2,
   "metadata": {
    "scrolled": true
   },
   "outputs": [
    {
     "data": {
      "text/plain": [
       "<matplotlib.figure.Figure at 0x1b060c53240>"
      ]
     },
     "metadata": {},
     "output_type": "display_data"
    },
    {
     "data": {
      "image/png": "[encoded data removed]",
      "text/plain": [
       "<matplotlib.figure.Figure at 0x1b0611935f8>"
      ]
     },
     "metadata": {},
     "output_type": "display_data"
    }
   ],
   "source": [
    "sig2 = pd.DataFrame(data={'Time':range(17),\n",
    "                          'VarA':[1,None,None,None,1,2,None,2,3,2,3,3,2,None,None,None,2],\n",
    "                          'VarB':[4,5,None,None,None,None,5,6,None,None,None,6,4,5,6,None,6]})\n",
    "plt.figure(1)\n",
    "#Plot 'raw' Variable A using blue dots\n",
    "ax = sig2.plot(x='Time',y='VarA',c='b',kind='scatter',label='Variable A')\n",
    "#Plot 'raw' Variable B using red dots\n",
    "sig2.plot(x='Time',y='VarB',c='r',kind='scatter',label='Variable B',ax=ax)\n",
    "#Adjust the axis and legend\n",
    "ax.legend(loc='upper left')\n",
    "plt.axis([-1,18,0.5,10]);                       "
   ]
  },
  {
   "cell_type": "markdown",
   "metadata": {},
   "source": [
    "Very few of the data points in this example match exactly (5 out of 17). If the sensor acquisition rates are both 1 Hz, only 29.4% of the full dataset is being utilized by the faulty preprocessing algorithm. This effect becomes even greater when additional variables are time-aligned at once.\n",
    "\n",
    "*Raw* data retrieved from the historian is not randomly sampled from the original distribution, as common values are removed more often than rare values. Hence, *raw* data from the historian is skewed towards the tail ends of the original distribution. The effects of this non-random sampling will be investigated in **Part 2**."
   ]
  }
 ],
 "metadata": {
  "anaconda-cloud": {},
  "kernelspec": {
   "display_name": "Python [Root]",
   "language": "python",
   "name": "Python [Root]"
  },
  "language_info": {
   "codemirror_mode": {
    "name": "ipython",
    "version": 3
   },
   "file_extension": ".py",
   "mimetype": "text/x-python",
   "name": "python",
   "nbconvert_exporter": "python",
   "pygments_lexer": "ipython3",
   "version": "3.5.5"
  }
 },
 "nbformat": 4,
 "nbformat_minor": 1
}
